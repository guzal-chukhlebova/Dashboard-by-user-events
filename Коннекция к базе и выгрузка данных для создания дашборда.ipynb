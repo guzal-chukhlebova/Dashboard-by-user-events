{
 "cells": [
  {
   "cell_type": "markdown",
   "id": "e54b4331",
   "metadata": {
    "toc": true
   },
   "source": [
    "<h1>Table of Contents<span class=\"tocSkip\"></span></h1>\n",
    "<div class=\"toc\"><ul class=\"toc-item\"><li><span><a href=\"#Коннекция-к-базе\" data-toc-modified-id=\"Коннекция-к-базе-1\"><span class=\"toc-item-num\">1&nbsp;&nbsp;</span>Коннекция к базе</a></span></li><li><span><a href=\"#Выгрузка-данных\" data-toc-modified-id=\"Выгрузка-данных-2\"><span class=\"toc-item-num\">2&nbsp;&nbsp;</span>Выгрузка данных</a></span></li></ul></div>"
   ]
  },
  {
   "cell_type": "markdown",
   "id": "330d6a31",
   "metadata": {},
   "source": [
    "## Коннекция к базе"
   ]
  },
  {
   "cell_type": "code",
   "execution_count": 5,
   "id": "03755ba9",
   "metadata": {},
   "outputs": [],
   "source": [
    "# импорт библиотек\n",
    "import pandas as pd\n",
    "from sqlalchemy import create_engine\n",
    "#!pip install pandas-profiling\n",
    "from pandas_profiling import ProfileReport"
   ]
  },
  {
   "cell_type": "markdown",
   "id": "decd99b9",
   "metadata": {},
   "source": [
    "Сохраним конфигурацию подключения к БД в отдельной переменной db_config, чтобы её можно было редактировать централизованно или заменить на загрузку и конфигурационного файла."
   ]
  },
  {
   "cell_type": "code",
   "execution_count": 2,
   "id": "f3aa8d18",
   "metadata": {},
   "outputs": [],
   "source": [
    "# задаём параметры подключения к БД\n",
    "db_config = {'user': 'praktikum_student', # имя пользователя\n",
    "            'pwd': 'Sdf4$2;d-d30pp', # пароль\n",
    "            'host': 'rc1b-wcoijxj3yxfsf3fs.mdb.yandexcloud.net',\n",
    "            'port': 6432, # порт подключения\n",
    "            'db': 'data-analyst-zen-project-db'} # название базы данных\n",
    "\n",
    "# формируем строку соединения с БД\n",
    "connection_string = 'postgresql://{}:{}@{}:{}/{}'.format(db_config['user'],\n",
    "                                                db_config['pwd'],\n",
    "                                                db_config['host'],\n",
    "                                                db_config['port'],\n",
    "                                                db_config['db'])\n",
    "\n",
    "# подключаемся к БД\n",
    "engine = create_engine(connection_string)"
   ]
  },
  {
   "cell_type": "markdown",
   "id": "86f6ab84",
   "metadata": {},
   "source": [
    "## Выгрузка данных"
   ]
  },
  {
   "cell_type": "markdown",
   "id": "68e619d7",
   "metadata": {},
   "source": [
    "Скрипт использует запрос к базе данных для того, чтобы получить все записи из таблицы log_raw."
   ]
  },
  {
   "cell_type": "code",
   "execution_count": 3,
   "id": "02c51fa6",
   "metadata": {},
   "outputs": [],
   "source": [
    "# формируем sql-запрос\n",
    "query = ''' SELECT *\n",
    "            FROM log_raw\n",
    "            '''\n",
    "# выполняем запрос и сохраняем результат\n",
    "# выполнения в DataFrame\n",
    "dash_visits = pd.io.sql.read_sql(query, con = engine) "
   ]
  },
  {
   "cell_type": "markdown",
   "id": "fe20c8b0",
   "metadata": {},
   "source": [
    "Датафрейм целиком записываем в файл log_raw.csv, который находится в вашей основной директории, для дальнейшей передачи данных для загрузки в Tableau."
   ]
  },
  {
   "cell_type": "code",
   "execution_count": 6,
   "id": "0732bd37",
   "metadata": {},
   "outputs": [
    {
     "data": {
      "text/html": [
       "<div>\n",
       "<style scoped>\n",
       "    .dataframe tbody tr th:only-of-type {\n",
       "        vertical-align: middle;\n",
       "    }\n",
       "\n",
       "    .dataframe tbody tr th {\n",
       "        vertical-align: top;\n",
       "    }\n",
       "\n",
       "    .dataframe thead th {\n",
       "        text-align: right;\n",
       "    }\n",
       "</style>\n",
       "<table border=\"1\" class=\"dataframe\">\n",
       "  <thead>\n",
       "    <tr style=\"text-align: right;\">\n",
       "      <th></th>\n",
       "      <th>event_id</th>\n",
       "      <th>age_segment</th>\n",
       "      <th>event</th>\n",
       "      <th>item_id</th>\n",
       "      <th>item_topic</th>\n",
       "      <th>item_type</th>\n",
       "      <th>source_id</th>\n",
       "      <th>source_topic</th>\n",
       "      <th>source_type</th>\n",
       "      <th>ts</th>\n",
       "      <th>user_id</th>\n",
       "    </tr>\n",
       "  </thead>\n",
       "  <tbody>\n",
       "    <tr>\n",
       "      <th>0</th>\n",
       "      <td>2931262</td>\n",
       "      <td>18-25</td>\n",
       "      <td>show</td>\n",
       "      <td>1793260</td>\n",
       "      <td>Красота</td>\n",
       "      <td>native</td>\n",
       "      <td>8388799</td>\n",
       "      <td>История</td>\n",
       "      <td>publisher</td>\n",
       "      <td>1569349657638</td>\n",
       "      <td>2185026</td>\n",
       "    </tr>\n",
       "    <tr>\n",
       "      <th>1</th>\n",
       "      <td>2931277</td>\n",
       "      <td>18-25</td>\n",
       "      <td>show</td>\n",
       "      <td>7465641</td>\n",
       "      <td>Культура</td>\n",
       "      <td>native</td>\n",
       "      <td>5837959</td>\n",
       "      <td>История</td>\n",
       "      <td>publisher</td>\n",
       "      <td>1569349657971</td>\n",
       "      <td>6845238</td>\n",
       "    </tr>\n",
       "    <tr>\n",
       "      <th>2</th>\n",
       "      <td>2931285</td>\n",
       "      <td>18-25</td>\n",
       "      <td>show</td>\n",
       "      <td>406073</td>\n",
       "      <td>История</td>\n",
       "      <td>url</td>\n",
       "      <td>2335872</td>\n",
       "      <td>Сад и дача</td>\n",
       "      <td>domain</td>\n",
       "      <td>1569349658408</td>\n",
       "      <td>5244363</td>\n",
       "    </tr>\n",
       "    <tr>\n",
       "      <th>3</th>\n",
       "      <td>2931247</td>\n",
       "      <td>26-30</td>\n",
       "      <td>show</td>\n",
       "      <td>752665</td>\n",
       "      <td>Путешествия</td>\n",
       "      <td>native</td>\n",
       "      <td>6963489</td>\n",
       "      <td>Здоровье</td>\n",
       "      <td>publisher</td>\n",
       "      <td>1569349657189</td>\n",
       "      <td>7553074</td>\n",
       "    </tr>\n",
       "    <tr>\n",
       "      <th>4</th>\n",
       "      <td>2931278</td>\n",
       "      <td>26-30</td>\n",
       "      <td>click</td>\n",
       "      <td>6843081</td>\n",
       "      <td>Юмор</td>\n",
       "      <td>url</td>\n",
       "      <td>5427748</td>\n",
       "      <td>Семейные отношения</td>\n",
       "      <td>domain</td>\n",
       "      <td>1569349658054</td>\n",
       "      <td>1317585</td>\n",
       "    </tr>\n",
       "  </tbody>\n",
       "</table>\n",
       "</div>"
      ],
      "text/plain": [
       "   event_id age_segment  event  item_id   item_topic item_type  source_id  \\\n",
       "0   2931262       18-25   show  1793260      Красота    native    8388799   \n",
       "1   2931277       18-25   show  7465641     Культура    native    5837959   \n",
       "2   2931285       18-25   show   406073      История       url    2335872   \n",
       "3   2931247       26-30   show   752665  Путешествия    native    6963489   \n",
       "4   2931278       26-30  click  6843081         Юмор       url    5427748   \n",
       "\n",
       "         source_topic source_type             ts  user_id  \n",
       "0             История   publisher  1569349657638  2185026  \n",
       "1             История   publisher  1569349657971  6845238  \n",
       "2          Сад и дача      domain  1569349658408  5244363  \n",
       "3            Здоровье   publisher  1569349657189  7553074  \n",
       "4  Семейные отношения      domain  1569349658054  1317585  "
      ]
     },
     "execution_count": 6,
     "metadata": {},
     "output_type": "execute_result"
    }
   ],
   "source": [
    "dash_visits.to_csv('dash_visits.csv', sep='\\t')\n",
    "dash_visits.head()"
   ]
  }
 ],
 "metadata": {
  "kernelspec": {
   "display_name": "Python 3 (ipykernel)",
   "language": "python",
   "name": "python3"
  },
  "language_info": {
   "codemirror_mode": {
    "name": "ipython",
    "version": 3
   },
   "file_extension": ".py",
   "mimetype": "text/x-python",
   "name": "python",
   "nbconvert_exporter": "python",
   "pygments_lexer": "ipython3",
   "version": "3.7.8"
  },
  "toc": {
   "base_numbering": 1,
   "nav_menu": {},
   "number_sections": true,
   "sideBar": true,
   "skip_h1_title": true,
   "title_cell": "Table of Contents",
   "title_sidebar": "Contents",
   "toc_cell": true,
   "toc_position": {
    "height": "calc(100% - 180px)",
    "left": "10px",
    "top": "150px",
    "width": "215.825px"
   },
   "toc_section_display": true,
   "toc_window_display": true
  }
 },
 "nbformat": 4,
 "nbformat_minor": 5
}
